{
 "cells": [
  {
   "cell_type": "code",
   "execution_count": null,
   "metadata": {},
   "outputs": [],
   "source": [
    "import pymongo\n",
    "from pymongo import MongoClient\n",
    "\n",
    "class School:\n",
    "    def __init__(self, pname, prole):\n",
    "        self.pname = pname\n",
    "        self.prole = prole\n",
    "\n",
    "    def checkwho(self):\n",
    "        if self.prole == 'Teacher':\n",
    "            print(f'as a Teacher {self.pname}')\n",
    "        else:\n",
    "            print(f'as a Student {self.pname}')\n",
    "\n",
    "# MongoDB Setup: Replace the MongoDB URI with your own\n",
    "client = MongoClient('mongodb://localhost:27017')  # If you're using a local MongoDB\n",
    "db = client['school_database']  # MongoDB Database name\n",
    "teacher_collection = db['teachers']  # MongoDB collection for teachers\n",
    "student_collection = db['students']  # MongoDB collection for students\n",
    "\n",
    "class Teacher(School):\n",
    "    def __init__(self, tname, tsub):\n",
    "        self.role = 'Teacher'\n",
    "        super().__init__(tname, self.role)\n",
    "        self.tname = tname\n",
    "        self.tsub = tsub\n",
    "\n",
    "    def teacher_display(self):\n",
    "        return f'Teacher name is: {self.tname} teaches {self.tsub} '\n",
    "\n",
    "    def insert_teacher(self):\n",
    "        teacher_data = {\n",
    "            'name': self.tname,\n",
    "            'subject': self.tsub,\n",
    "            'role': self.role,\n",
    "            'pass_percent': self.pass_percent\n",
    "        }\n",
    "        teacher_collection.insert_one(teacher_data)  # Insert teacher record into MongoDB\n",
    "\n",
    "    def update_teacher(self, teacher_name, new_subject):\n",
    "        teacher_collection.update_one(\n",
    "            {'name': teacher_name}, \n",
    "            {'$set': {'subject': new_subject}}\n",
    "        )  # Update teacher subject\n",
    "\n",
    "    def delete_teacher(self, teacher_name):\n",
    "        teacher_collection.delete_one({'name': teacher_name})  # Delete teacher record\n",
    "\n",
    "    def read_teacher(self, teacher_name):\n",
    "        teacher = teacher_collection.find_one({'name': teacher_name})\n",
    "        if teacher:\n",
    "            return teacher\n",
    "        return None\n",
    "    \n",
    "\n",
    "\n",
    "class Student(School):\n",
    "    def __init__(self, name, marks):\n",
    "        self.role = 'Student'\n",
    "        super().__init__(name, self.role)\n",
    "        self.marks = marks\n",
    "        self.name = name\n",
    "\n",
    "    def average(self):\n",
    "        l = list(self.marks.values())\n",
    "        avg = sum(l) // len(l)\n",
    "        return avg\n",
    "\n",
    "    def grade(self, avg):\n",
    "        if avg > 90:\n",
    "            return 'O'\n",
    "        elif 70 < avg <= 90:\n",
    "            return 'B'\n",
    "        elif 50 < avg <= 70:\n",
    "            return 'A'\n",
    "        elif 35 < avg <= 50:\n",
    "            return 'E'\n",
    "        elif avg < 35:\n",
    "            return 'F'\n",
    "\n",
    "    def display(self):\n",
    "        return f'{self.name} has scored {self.marks} and got {self.grade(self.average())}'\n",
    "\n",
    "    def insert_student(self):\n",
    "        student_data = {\n",
    "            'name': self.name,\n",
    "            'marks': self.marks,\n",
    "            'role': self.role,\n",
    "            'average': self.average(),\n",
    "            'grade': self.grade(self.average())\n",
    "        }\n",
    "        student_collection.insert_many(student_data)  # Insert student record into MongoDB\n",
    "\n",
    "    def update_student(self, student_name, new_marks):\n",
    "        student_collection.update_one(\n",
    "            {'name': student_name},\n",
    "            {'$set': {'marks': new_marks, 'average': self.average(), 'grade': self.grade(self.average())}}\n",
    "        )  # Update student marks\n",
    "\n",
    "    def delete_student(self, student_name):\n",
    "        student_collection.delete_one({'name': student_name})  # Delete student record\n",
    "\n",
    "    def read_student(self, student_name):\n",
    "        student = student_collection.find_one({'name': student_name})\n",
    "        if student:\n",
    "            return student\n",
    "        return None\n",
    "\n"
   ]
  },
  {
   "cell_type": "code",
   "execution_count": null,
   "metadata": {},
   "outputs": [],
   "source": [
    "# Insert Teacher Data\n",
    "teacher_obj = Teacher('Mr. John', 'Math')\n",
    "teacher_obj.insert_teacher()\n",
    "# Read Teacher Data\n",
    "print(teacher_obj.read_teacher('Mr. John'))\n",
    "\n",
    "# Update Teacher Data\n",
    "teacher_obj.update_teacher('Mr. John', 'Physics')"
   ]
  },
  {
   "cell_type": "code",
   "execution_count": null,
   "metadata": {},
   "outputs": [],
   "source": [
    "# Delete Teacher Data\n",
    "# teacher_obj.delete_teacher('Mr. John')"
   ]
  },
  {
   "cell_type": "code",
   "execution_count": null,
   "metadata": {},
   "outputs": [],
   "source": [
    "# Insert Student Data\n",
    "student_obj = Student('Alice', {'maths': 99, 'science': 89, 'social': 79, 'english': 69})\n",
    "student_obj.insert_student()\n",
    "\n",
    "# Read Student Data\n",
    "print(student_obj.read_student('Alice'))\n",
    "\n",
    "# Update Student Data\n",
    "student_obj.update_student('Alice', {'maths': 90, 'science': 85, 'social': 80, 'english': 75})"
   ]
  },
  {
   "cell_type": "code",
   "execution_count": 4,
   "metadata": {},
   "outputs": [],
   "source": [
    "student_obj.insert_student()\n",
    "student_obj = Student('sam', {'maths': 89, 'science': 79, 'social': 69, 'english': 59})"
   ]
  },
  {
   "cell_type": "code",
   "execution_count": null,
   "metadata": {},
   "outputs": [],
   "source": [
    "# Delete Student Data\n",
    "# student_obj.delete_student('Alice')"
   ]
  },
  {
   "cell_type": "code",
   "execution_count": 5,
   "metadata": {},
   "outputs": [
    {
     "data": {
      "text/plain": [
       "<function __main__.sample()>"
      ]
     },
     "execution_count": 5,
     "metadata": {},
     "output_type": "execute_result"
    }
   ],
   "source": [
    "def sample():\n",
    "    return 'hai'\n",
    "sample\n"
   ]
  },
  {
   "cell_type": "code",
   "execution_count": 10,
   "metadata": {},
   "outputs": [
    {
     "name": "stdout",
     "output_type": "stream",
     "text": [
      "selvam\n",
      "varshini\n",
      "someone\n"
     ]
    }
   ],
   "source": [
    "#inheretence\n",
    "class father():\n",
    "    def display(self):\n",
    "        print('selvam')\n",
    "\n",
    "class daughter(father):\n",
    "    def tdisplay(self):\n",
    "        print('varshini')\n",
    "\n",
    "class ddaughter(daughter):\n",
    "    def sisdiplay(self):\n",
    "        print('someone')\n",
    "\n",
    "\n",
    "# obj1 = father()\n",
    "# obj2 = daughter()\n",
    "obj3 = ddaughter()\n",
    "\n",
    "\n",
    "obj3.display()\n",
    "obj3.tdisplay()\n",
    "obj3.sisdiplay()\n"
   ]
  },
  {
   "cell_type": "code",
   "execution_count": 12,
   "metadata": {},
   "outputs": [
    {
     "name": "stdout",
     "output_type": "stream",
     "text": [
      "Mike Olsen\n"
     ]
    }
   ],
   "source": [
    "class Person:\n",
    "  def __init__(self, fname, lname):\n",
    "    self.firstname = fname\n",
    "    self.lastname = lname\n",
    "\n",
    "  def printname(self):\n",
    "    print(self.firstname, self.lastname)\n",
    "\n",
    "\n",
    "class Student(Person):\n",
    "  def __init__(self, fname, lname):\n",
    "    super().__init__(fname, lname)\n",
    "\n",
    "\n",
    "# x = Student(\"Mike\", \"Olsen\")\n",
    "y = Person(\"Mike\", \"Olsen\")\n",
    "y.printname()"
   ]
  },
  {
   "cell_type": "code",
   "execution_count": null,
   "metadata": {},
   "outputs": [],
   "source": [
    "thisdict = {\n",
    "  \"brand\": \"Ford\",\n",
    "  \"model\": \"Mustang\",\n",
    "  \"year\": 1964\n",
    "}\n"
   ]
  },
  {
   "cell_type": "code",
   "execution_count": 13,
   "metadata": {},
   "outputs": [
    {
     "name": "stdout",
     "output_type": "stream",
     "text": [
      "Drive!\n",
      "Sail!\n",
      "Fly!\n"
     ]
    }
   ],
   "source": [
    "class Car:\n",
    "  def __init__(self, brand, model):\n",
    "    self.brand = brand\n",
    "    self.model = model\n",
    "\n",
    "  def move(self):\n",
    "    print(\"Drive!\")\n",
    "\n",
    "class Boat:\n",
    "  def __init__(self, brand, model):\n",
    "    self.brand = brand\n",
    "    self.model = model\n",
    "\n",
    "  def move(self):\n",
    "    print(\"Sail!\")\n",
    "\n",
    "class Plane:\n",
    "  def __init__(self, brand, model):\n",
    "    self.brand = brand\n",
    "    self.model = model\n",
    "\n",
    "  def move(self):\n",
    "    print(\"Fly!\")\n",
    "\n",
    "car1 = Car(\"Ford\", \"Mustang\")       #Create a Car object\n",
    "boat1 = Boat(\"Ibiza\", \"Touring 20\") #Create a Boat object\n",
    "plane1 = Plane(\"Boeing\", \"747\")     #Create a Plane object\n",
    "\n",
    "for x in (car1, boat1, plane1):\n",
    "  x.move()"
   ]
  },
  {
   "cell_type": "code",
   "execution_count": 2,
   "metadata": {},
   "outputs": [
    {
     "name": "stdout",
     "output_type": "stream",
     "text": [
      "[1, 2, 3, 1, 2, 3]\n"
     ]
    }
   ],
   "source": [
    "l1 = [1,2,3]\n",
    "l2 = [1,2,3]\n",
    "print(l1+l2)"
   ]
  },
  {
   "cell_type": "code",
   "execution_count": 6,
   "metadata": {},
   "outputs": [
    {
     "ename": "TypeError",
     "evalue": "m.__mul__() missing 1 required positional argument: 'other2'",
     "output_type": "error",
     "traceback": [
      "\u001b[1;31m---------------------------------------------------------------------------\u001b[0m",
      "\u001b[1;31mTypeError\u001b[0m                                 Traceback (most recent call last)",
      "Cell \u001b[1;32mIn[6], line 9\u001b[0m\n\u001b[0;32m      7\u001b[0m b \u001b[38;5;241m=\u001b[39m m(\u001b[38;5;241m10\u001b[39m)\n\u001b[0;32m      8\u001b[0m c\u001b[38;5;241m=\u001b[39m m(\u001b[38;5;241m2\u001b[39m)\n\u001b[1;32m----> 9\u001b[0m \u001b[38;5;28mprint\u001b[39m(\u001b[43ma\u001b[49m\u001b[43m \u001b[49m\u001b[38;5;241;43m*\u001b[39;49m\u001b[43m \u001b[49m\u001b[43mb\u001b[49m \u001b[38;5;241m*\u001b[39m c)\n",
      "\u001b[1;31mTypeError\u001b[0m: m.__mul__() missing 1 required positional argument: 'other2'"
     ]
    }
   ],
   "source": [
    "class m():\n",
    "    def __init__(self,x):\n",
    "        self.x = x\n",
    "    def __mul__(self,other,other2):\n",
    "        return f'{self.x} x {other.x} x {other2.x} =  {self.x * other.x * other2.x}'\n",
    "a = m(5)\n",
    "b = m(10)\n",
    "c= m(2)\n",
    "print(a * b * c)"
   ]
  },
  {
   "cell_type": "code",
   "execution_count": 3,
   "metadata": {},
   "outputs": [],
   "source": [
    "import numpy as np "
   ]
  },
  {
   "cell_type": "code",
   "execution_count": 5,
   "metadata": {},
   "outputs": [
    {
     "data": {
      "text/plain": [
       "numpy.ndarray"
      ]
     },
     "execution_count": 5,
     "metadata": {},
     "output_type": "execute_result"
    }
   ],
   "source": [
    "a = np.array([1,2,4])\n",
    "a\n",
    "type(a)"
   ]
  },
  {
   "cell_type": "code",
   "execution_count": 4,
   "metadata": {},
   "outputs": [
    {
     "name": "stdout",
     "output_type": "stream",
     "text": [
      "120\n"
     ]
    }
   ],
   "source": [
    "def fact(a):\n",
    "    if a == 1:\n",
    "        return 1\n",
    "    else:\n",
    "        return a * fact(a - 1)\n",
    "\n",
    "n = 5\n",
    "print(fact(n))\n"
   ]
  },
  {
   "cell_type": "code",
   "execution_count": 6,
   "metadata": {},
   "outputs": [
    {
     "name": "stdout",
     "output_type": "stream",
     "text": [
      "1\n",
      "2\n"
     ]
    }
   ],
   "source": [
    "# Using iter() with a list\n",
    "my_list = [1, 2, 3]\n",
    "my_iter = iter(my_list)\n",
    "\n",
    "print(next(my_iter))  # Output: 1\n",
    "print(next(my_iter))  # Output: 1\n",
    "\n"
   ]
  },
  {
   "cell_type": "code",
   "execution_count": 42,
   "metadata": {},
   "outputs": [
    {
     "name": "stdout",
     "output_type": "stream",
     "text": [
      "1\n",
      "2\n",
      "3\n",
      "ok\n"
     ]
    }
   ],
   "source": [
    "def generator():\n",
    "    yield 1\n",
    "    yield 2\n",
    "    yield 3\n",
    "\n",
    "\n",
    "gen =  iter(generator())\n",
    "print(next(gen))\n",
    "print(next(gen))\n",
    "print(next(gen))\n",
    "print(next(gen,\"ok\"))\n",
    "\n",
    "# for i in gen:\n",
    "#     print(i)"
   ]
  },
  {
   "cell_type": "code",
   "execution_count": 36,
   "metadata": {},
   "outputs": [
    {
     "name": "stdout",
     "output_type": "stream",
     "text": [
      "{1: 4, 2: 5}\n"
     ]
    }
   ],
   "source": [
    "l=[1,2]\n",
    "l2= [4,5,6]\n",
    "\n",
    "l3 = map()"
   ]
  },
  {
   "cell_type": "code",
   "execution_count": 45,
   "metadata": {},
   "outputs": [
    {
     "name": "stdout",
     "output_type": "stream",
     "text": [
      "11\n"
     ]
    }
   ],
   "source": [
    "print(eval(\"5+6\"))"
   ]
  },
  {
   "cell_type": "code",
   "execution_count": 52,
   "metadata": {},
   "outputs": [
    {
     "name": "stdout",
     "output_type": "stream",
     "text": [
      "5\n"
     ]
    }
   ],
   "source": [
    "list1=['a','b','c','g',1,5]\n",
    "\n",
    "\n",
    "print(list1.pop())"
   ]
  },
  {
   "cell_type": "code",
   "execution_count": 55,
   "metadata": {},
   "outputs": [
    {
     "name": "stdout",
     "output_type": "stream",
     "text": [
      "False\n"
     ]
    }
   ],
   "source": [
    "var=2\n",
    "\n",
    "print(2==0.5)"
   ]
  },
  {
   "cell_type": "code",
   "execution_count": 58,
   "metadata": {},
   "outputs": [
    {
     "name": "stdout",
     "output_type": "stream",
     "text": [
      "3\n"
     ]
    }
   ],
   "source": [
    "print(ceil(3.0))"
   ]
  },
  {
   "cell_type": "code",
   "execution_count": 59,
   "metadata": {},
   "outputs": [
    {
     "name": "stdout",
     "output_type": "stream",
     "text": [
      "ello\n"
     ]
    }
   ],
   "source": [
    "name='Hello, World!'\n",
    "print(name[1:5])"
   ]
  },
  {
   "cell_type": "code",
   "execution_count": 74,
   "metadata": {},
   "outputs": [
    {
     "name": "stdout",
     "output_type": "stream",
     "text": [
      "{(6, 6), (0, 8), (5, 5), (True, 9)}\n"
     ]
    }
   ],
   "source": [
    "set1={5,6,0,True}\n",
    "set2 = {5,6,8,9}\n",
    "set3 = zip(set1,set2)\n",
    "print(set(set3))"
   ]
  },
  {
   "cell_type": "code",
   "execution_count": 78,
   "metadata": {},
   "outputs": [
    {
     "name": "stdout",
     "output_type": "stream",
     "text": [
      "256\n"
     ]
    }
   ],
   "source": [
    "def f1():\n",
    "    n = 4\n",
    "\n",
    "    s=n**4\n",
    "\n",
    "    print(s)\n",
    "\n",
    "f1()"
   ]
  },
  {
   "cell_type": "code",
   "execution_count": 79,
   "metadata": {},
   "outputs": [
    {
     "name": "stdout",
     "output_type": "stream",
     "text": [
      "256\n"
     ]
    }
   ],
   "source": [
    "n=4\n",
    "\n",
    "def f1():\n",
    "    global n\n",
    "\n",
    "    n=n**4\n",
    "\n",
    "    print(n)\n",
    "\n",
    "f1()\n",
    "\n"
   ]
  },
  {
   "cell_type": "code",
   "execution_count": 81,
   "metadata": {},
   "outputs": [
    {
     "name": "stdout",
     "output_type": "stream",
     "text": [
      "<function fun.<locals>.fun1 at 0x000002589B74F560>\n"
     ]
    }
   ],
   "source": [
    "def fun():\n",
    "    n = 1\n",
    "    def fun1():\n",
    "        nonlocal n\n",
    "        n = n + 1\n",
    "        return n\n",
    "    return fun1    \n",
    "print(fun())\n"
   ]
  },
  {
   "cell_type": "code",
   "execution_count": null,
   "metadata": {},
   "outputs": [],
   "source": []
  },
  {
   "cell_type": "code",
   "execution_count": 86,
   "metadata": {},
   "outputs": [
    {
     "ename": "IndentationError",
     "evalue": "unexpected indent (1901706338.py, line 2)",
     "output_type": "error",
     "traceback": [
      "\u001b[1;36m  Cell \u001b[1;32mIn[86], line 2\u001b[1;36m\u001b[0m\n\u001b[1;33m    print(datetime.datetime.now())\u001b[0m\n\u001b[1;37m    ^\u001b[0m\n\u001b[1;31mIndentationError\u001b[0m\u001b[1;31m:\u001b[0m unexpected indent\n"
     ]
    }
   ],
   "source": [
    "import  datetime\n",
    "    print(datetime.datetime.now())"
   ]
  },
  {
   "cell_type": "code",
   "execution_count": 89,
   "metadata": {},
   "outputs": [],
   "source": [
    "import csv\n",
    "\n",
    "# Register a custom dialect\n",
    "csv.register_dialect('custom', delimiter=';', quotechar=\"'\", lineterminator='\\n')\n",
    "\n",
    "# Writing using the custom dialect\n",
    "data = [[\"name\", \"age\"], [\"Alice\", 30], [\"Bob\", 25]]\n",
    "with open('data.csv', 'w', newline='') as file:\n",
    "    writer = csv.writer(file, dialect='custom')\n",
    "    writer.writerows(data)\n"
   ]
  },
  {
   "cell_type": "code",
   "execution_count": 90,
   "metadata": {},
   "outputs": [
    {
     "name": "stdout",
     "output_type": "stream",
     "text": [
      "division by zero\n"
     ]
    }
   ],
   "source": [
    "try:\n",
    "    x = 10 / 0 \n",
    "except Exception as e:\n",
    "    print(e)\n"
   ]
  }
 ],
 "metadata": {
  "kernelspec": {
   "display_name": "Python 3",
   "language": "python",
   "name": "python3"
  },
  "language_info": {
   "codemirror_mode": {
    "name": "ipython",
    "version": 3
   },
   "file_extension": ".py",
   "mimetype": "text/x-python",
   "name": "python",
   "nbconvert_exporter": "python",
   "pygments_lexer": "ipython3",
   "version": "3.12.3"
  }
 },
 "nbformat": 4,
 "nbformat_minor": 2
}
