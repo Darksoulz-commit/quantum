{
 "cells": [
  {
   "cell_type": "code",
   "execution_count": 31,
   "metadata": {},
   "outputs": [],
   "source": [
    "import math"
   ]
  },
  {
   "cell_type": "markdown",
   "metadata": {},
   "source": [
    "Given a positive integer x. Your task is to check, if it is even or odd (Any number that gives zero as remainder when divided by 2 is an even number)\n",
    "Input: x = 4\n",
    "Output: Even\n",
    "Input: x = 5\n",
    "Output: Odd"
   ]
  },
  {
   "cell_type": "code",
   "execution_count": 4,
   "metadata": {},
   "outputs": [
    {
     "name": "stdout",
     "output_type": "stream",
     "text": [
      "Even\n",
      "Even\n"
     ]
    }
   ],
   "source": [
    "def oddeven1(number):\n",
    "    if number % 2 == 0:\n",
    "        print(\"Even\")\n",
    "    else:\n",
    "        print(\"Odd\")\n",
    "oddeven1(1661232131312)\n",
    "\n",
    "def oddeven2(number):\n",
    "    result = {0: \"Even\", 1: \"Odd\"}\n",
    "    print(result[number & 1])\n",
    "\n",
    "oddeven2(1661232131312)\n",
    "\n"
   ]
  },
  {
   "cell_type": "markdown",
   "metadata": {},
   "source": [
    "Input: arr[] = [1, 2, 3, 7, 5], target = 12\n",
    "Output: [2, 4]\n",
    "Explanation: The sum of elements from 2nd to 4th position is 12."
   ]
  },
  {
   "cell_type": "code",
   "execution_count": 11,
   "metadata": {},
   "outputs": [
    {
     "name": "stdout",
     "output_type": "stream",
     "text": [
      "[1, 3]\n"
     ]
    }
   ],
   "source": [
    "def arraycheck(arr,target):\n",
    "    if len(arr)<2 or len(arr) == 0:\n",
    "        return -1\n",
    "    else:\n",
    "        for i in arr:\n",
    "            for j in arr:\n",
    "                if arr[i] + arr[j] == target:\n",
    "                    return [i,j]\n",
    "arr = [1,2,3,4]\n",
    "target = 6\n",
    "re = arraycheck(arr,target)\n",
    "print(re)"
   ]
  },
  {
   "cell_type": "markdown",
   "metadata": {},
   "source": [
    "You are given a string str, you need to return True if  the words \"cat\" and \"hat\" appear same number of times in str, otherwise return False.\n",
    "Note: str contains only lowercase English alphabets.\n",
    "\n",
    "Example 1:\n",
    "\n",
    "Input:\n",
    "str = catinahat\n",
    "Output:\n",
    "True\n",
    "Explanation:\n",
    "cat and hat both are present\n",
    "1 number of times."
   ]
  },
  {
   "cell_type": "code",
   "execution_count": null,
   "metadata": {},
   "outputs": [],
   "source": [
    "def cathat(strr):\n",
    "    cat_count = 0\n",
    "    hat_count = 0\n",
    "    for i in range(len(strr) - 2):\n",
    "        if strr[i:i+3] == 'cat':\n",
    "            cat_count += 1\n",
    "        elif strr[i:i+3] == 'hat':\n",
    "            hat_count += 1\n",
    "    \n",
    "    # Compare the counts of 'cat' and 'hat'\n",
    "    return cat_count == hat_count\n",
    "\n",
    "# Test cases\n",
    "print(cathat('catinahat'))  # Output: True\n",
    "print(cathat('catincat'))   # Output: False\n",
    "\n",
    "def cathat2(s):\n",
    "    if s.count('cat') == s.count('hat'):\n",
    "        return True\n",
    "    else:\n",
    "        return False\n",
    "cathat2('catinhat')"
   ]
  },
  {
   "cell_type": "markdown",
   "metadata": {},
   "source": [
    "Given a non-negative integer n. The task is to check if it is a power of 2. \n",
    "\n",
    "Examples\n",
    "\n",
    "Input: n = 8\n",
    "Output: true\n",
    "Explanation: 8 is equal to 2 raised to 3 (2^3 =8)."
   ]
  },
  {
   "cell_type": "code",
   "execution_count": 46,
   "metadata": {},
   "outputs": [
    {
     "name": "stdout",
     "output_type": "stream",
     "text": [
      "False\n",
      "True\n",
      "50.0\n"
     ]
    }
   ],
   "source": [
    "def isPowerOfTwo(n):\n",
    "    if n <= 0:\n",
    "        return False\n",
    "    while n % 2 == 0:\n",
    "        n //= 2\n",
    "    return n == 1\n",
    "\n",
    "print(isPowerOfTwo(78))\n",
    "\n",
    "def isPowerOfTwo2(n):\n",
    "    return n > 0 and (n & (n - 1)) == 0\n",
    "print(isPowerOfTwo2(1125899906842624))\n",
    "print(math.log2(1125899906842624))"
   ]
  },
  {
   "cell_type": "markdown",
   "metadata": {},
   "source": [
    "Given an integer array arr, return all the unique pairs [arr[i], arr[j]] such that i != j and arr[i] + arr[j] == 0.\n",
    "\n",
    "Note: The pairs must be returned in sorted order, the solution array should also be sorted, and the answer must not contain any duplicate pairs.\n",
    "\n",
    "Examples:\n",
    "\n",
    "Input: arr = [-1, 0, 1, 2, -1, -4]\n",
    "Output: [[-1, 1]]\n",
    "Explanation: arr[0] + arr[2] = (-1)+ 1 = 0.\n",
    "arr[2] + arr[4] = 1 + (-1) = 0.\n",
    "The distinct pair are [-1,1].\n",
    "\n",
    "Input: arr = [6, 1, 8, 0, 4, -9, -1, -10, -6, -5]\n",
    "Output: [[-6, 6],[-1, 1]]\n",
    "Explanation: The distinct pairs are [-1, 1] and [-6, 6].\n",
    "\n",
    "\n",
    "Constraints:\n",
    "3 <= arr.size <= 10^5\n",
    "-105 <= arr[i] <= 10^5"
   ]
  },
  {
   "cell_type": "code",
   "execution_count": 84,
   "metadata": {},
   "outputs": [
    {
     "name": "stdout",
     "output_type": "stream",
     "text": [
      "[[-6, 6], [-1, 1]]\n"
     ]
    }
   ],
   "source": [
    "def unique_pairs(arr):\n",
    "    seen = set()\n",
    "    pairs = set()  # This will store the pairs as tuples to avoid duplicates\n",
    "    for num in arr:\n",
    "        if -num in seen:\n",
    "            pairs.add(tuple(sorted([num, -num])))  # Add the pair in sorted order to avoid duplication\n",
    "        seen.add(num)  # Add the current number to the 'seen' set\n",
    "    return [list(pair) for pair in sorted(pairs)]  # Convert pairs to lists and return sorted list of pairs\n",
    "\n",
    "# Example usage\n",
    "print(unique_pairs([6, 1, 8, 0, 4, -9, -1, -10, -6, -5]))\n"
   ]
  },
  {
   "cell_type": "markdown",
   "metadata": {},
   "source": [
    "Given an array arr of positive integers. Reverse every sub-array group of size k.\n",
    "\n",
    "Note: If at any instance, k is greater or equal to the array size, then reverse the entire array. You shouldn't return any array, modify the given array in place.\n",
    "\n",
    "Examples:\n",
    "\n",
    "Input: arr[] = [1, 2, 3, 4, 5], k = 3\n",
    "Output: [3, 2, 1, 5, 4]\n",
    "Explanation: First group consists of elements 1, 2, 3. Second group consists of 4,5.\n",
    "Input: arr[] = [5, 6, 8, 9], k = 5\n",
    "Output: [9, 8, 6, 5]\n",
    "Explnation: Since k is greater than array size, the entire array is reversed."
   ]
  },
  {
   "cell_type": "code",
   "execution_count": 103,
   "metadata": {},
   "outputs": [
    {
     "data": {
      "text/plain": [
       "[3, 2, 1, 5, 4]"
      ]
     },
     "execution_count": 103,
     "metadata": {},
     "output_type": "execute_result"
    }
   ],
   "source": [
    "def revarr(arr,k):\n",
    "    result = []\n",
    "    for i in range(0, len(arr), k):\n",
    "        chunk = arr[i:i + k]\n",
    "        result.extend(chunk[::-1])\n",
    "    return result\n",
    "\n",
    "revarr([1, 2, 3, 4, 5], k = 3)"
   ]
  },
  {
   "cell_type": "markdown",
   "metadata": {},
   "source": [
    "Given an array arr, return true if there is a triplet (a, b, c) from the array (where a, b, and c are on different indexes) that satisfies a2 + b2 = c2, otherwise return false.\n",
    "\n",
    "Examples:\n",
    "\n",
    "Input: arr[] = [3, 2, 4, 6, 5]\n",
    "Output: true\n",
    "Explanation: a=3, b=4, and c=5 forms apythagorean triplet.\n",
    "Input: arr[] = [3, 8, 5]\n",
    "Output: false\n",
    "Explanation: No such triplet possible.\n",
    "Input: arr[] = [1, 1, 1]\n",
    "Output: false"
   ]
  },
  {
   "cell_type": "code",
   "execution_count": 16,
   "metadata": {},
   "outputs": [
    {
     "name": "stdout",
     "output_type": "stream",
     "text": [
      "No such values found.\n"
     ]
    },
    {
     "data": {
      "text/plain": [
       "False"
      ]
     },
     "execution_count": 16,
     "metadata": {},
     "output_type": "execute_result"
    }
   ],
   "source": [
    "def check_square_condition(arr):\n",
    "    for i in range(len(arr)):\n",
    "        for j in range(i + 1, len(arr)):  # j > i to avoid comparing the same element\n",
    "            for k in range(len(arr)):\n",
    "                if k != i and k != j:  # k should not be the same as i or j\n",
    "                    if arr[i]**2 + arr[j]**2 == arr[k]**2:\n",
    "                        print(f\"Found: {arr[i]}^2 + {arr[j]}^2 = {arr[k]}^2\")\n",
    "                        return True\n",
    "    print(\"No such values found.\")\n",
    "    return False\n",
    "\n",
    "\n",
    "check_square_condition([1, 1, 1])\n"
   ]
  },
  {
   "cell_type": "code",
   "execution_count": 17,
   "metadata": {},
   "outputs": [
    {
     "name": "stdout",
     "output_type": "stream",
     "text": [
      "True\n",
      "False\n",
      "False\n"
     ]
    }
   ],
   "source": [
    "\n",
    "def is_pythagorean_triplet(arr):\n",
    "    # Step 1: Square all elements in the array\n",
    "    squares = set(x * x for x in arr)\n",
    "\n",
    "    # Step 2: Check all pairs of a and b\n",
    "    for i in range(len(arr)):\n",
    "        for j in range(i + 1, len(arr)):  # Ensure i != j\n",
    "            # Check if a^2 + b^2 is a perfect square in the array\n",
    "            if (arr[i]**2 + arr[j]**2) in squares:\n",
    "                return True\n",
    "    \n",
    "    # No triplet found\n",
    "    return False\n",
    "\n",
    "# Test cases\n",
    "print(is_pythagorean_triplet([3, 2, 4, 6, 5]))  # Output: True\n",
    "print(is_pythagorean_triplet([3, 8, 5]))        # Output: False\n",
    "print(is_pythagorean_triplet([1, 1, 1]))        # Output: False\n"
   ]
  },
  {
   "cell_type": "code",
   "execution_count": 21,
   "metadata": {},
   "outputs": [
    {
     "name": "stdout",
     "output_type": "stream",
     "text": [
      "[45, 25, 17, 10, 5]\n",
      "[45, 25, 17]\n",
      "5 1 3 "
     ]
    }
   ],
   "source": [
    "# n,k=map(int,input().split())\n",
    "\n",
    "# a=list(map(int,input().split()))\n",
    "\n",
    "n,k= 5,3\n",
    "a=[ 25 ,5 ,17 ,10 ,45]\n",
    "\n",
    "sort_a = sorted(a)[::-1]\n",
    "print(sort_a)\n",
    "max_k = sort_a[0:k]\n",
    "print(max_k)\n",
    "for i in max_k:\n",
    "   print(a.index(i)+1,end = \" \")"
   ]
  },
  {
   "cell_type": "code",
   "execution_count": 7,
   "metadata": {},
   "outputs": [
    {
     "name": "stdout",
     "output_type": "stream",
     "text": [
      "Counter({'o': 4, 'z': 2})\n",
      "4\n",
      "yes\n"
     ]
    }
   ],
   "source": [
    "from collections import Counter\n",
    "\n",
    "name = 'zzoooo'\n",
    "freq = Counter(name)\n",
    "print(freq)\n",
    "print(freq['o'])\n",
    "if freq['o']>freq['z']:\n",
    "    print(\"yes\")\n",
    "else:\n",
    "    print('no')\n"
   ]
  },
  {
   "cell_type": "code",
   "execution_count": 16,
   "metadata": {},
   "outputs": [
    {
     "name": "stdout",
     "output_type": "stream",
     "text": [
      "No\n"
     ]
    }
   ],
   "source": [
    "data = [85,25,65,21,84]\n",
    "l=[]\n",
    "for i in data:\n",
    "    x= i%10\n",
    "    l.append(str(x))\n",
    "number = ''.join(l)\n",
    "result= int(number)\n",
    "if result%10 == 0:\n",
    "    print(\"Yes\")\n",
    "else:\n",
    "    print(\"No\")\n",
    "\n"
   ]
  },
  {
   "cell_type": "code",
   "execution_count": null,
   "metadata": {},
   "outputs": [
    {
     "ename": "TypeError",
     "evalue": "sequence item 0: expected str instance, int found",
     "output_type": "error",
     "traceback": [
      "\u001b[1;31m---------------------------------------------------------------------------\u001b[0m",
      "\u001b[1;31mTypeError\u001b[0m                                 Traceback (most recent call last)",
      "Cell \u001b[1;32mIn[29], line 4\u001b[0m\n\u001b[0;32m      1\u001b[0m arr \u001b[38;5;241m=\u001b[39m [\u001b[38;5;241m85\u001b[39m,\u001b[38;5;241m25\u001b[39m,\u001b[38;5;241m65\u001b[39m,\u001b[38;5;241m21\u001b[39m,\u001b[38;5;241m84\u001b[39m]\n\u001b[1;32m----> 4\u001b[0m last_digits \u001b[38;5;241m=\u001b[39m \u001b[38;5;124;43m'\u001b[39;49m\u001b[38;5;124;43m'\u001b[39;49m\u001b[38;5;241;43m.\u001b[39;49m\u001b[43mjoin\u001b[49m\u001b[43m(\u001b[49m\u001b[38;5;28;43mint\u001b[39;49m\u001b[43m(\u001b[49m\u001b[43mnum\u001b[49m\u001b[43m \u001b[49m\u001b[38;5;241;43m%\u001b[39;49m\u001b[43m \u001b[49m\u001b[38;5;241;43m10\u001b[39;49m\u001b[43m)\u001b[49m\u001b[43m \u001b[49m\u001b[38;5;28;43;01mfor\u001b[39;49;00m\u001b[43m \u001b[49m\u001b[43mnum\u001b[49m\u001b[43m \u001b[49m\u001b[38;5;129;43;01min\u001b[39;49;00m\u001b[43m \u001b[49m\u001b[43marr\u001b[49m\u001b[43m)\u001b[49m\n\u001b[0;32m      5\u001b[0m \u001b[38;5;28mprint\u001b[39m(last_digits)\n\u001b[0;32m      6\u001b[0m \u001b[38;5;66;03m# formed_number = int(last_digits)\u001b[39;00m\n\u001b[0;32m      7\u001b[0m \n\u001b[0;32m      8\u001b[0m \u001b[38;5;66;03m# if last_digits % 10 == 0:\u001b[39;00m\n\u001b[0;32m      9\u001b[0m \u001b[38;5;66;03m#     print(\"Yes\") \u001b[39;00m\n\u001b[0;32m     10\u001b[0m \u001b[38;5;66;03m# else:\u001b[39;00m\n\u001b[0;32m     11\u001b[0m \u001b[38;5;66;03m#     print(\"No\")\u001b[39;00m\n",
      "\u001b[1;31mTypeError\u001b[0m: sequence item 0: expected str instance, int found"
     ]
    }
   ],
   "source": [
    "arr = [85,25,65,21,84]\n",
    "\n",
    "\n",
    "last_digits = ''.join((num % 10) for num in arr)\n",
    "print(last_digits)\n",
    "# formed_number = int(last_digits)\n",
    "\n",
    "# if last_digits % 10 == 0:\n",
    "#     print(\"Yes\") \n",
    "# else:\n",
    "#     print(\"No\")\n"
   ]
  },
  {
   "cell_type": "code",
   "execution_count": null,
   "metadata": {},
   "outputs": [],
   "source": []
  }
 ],
 "metadata": {
  "kernelspec": {
   "display_name": "Python 3",
   "language": "python",
   "name": "python3"
  },
  "language_info": {
   "codemirror_mode": {
    "name": "ipython",
    "version": 3
   },
   "file_extension": ".py",
   "mimetype": "text/x-python",
   "name": "python",
   "nbconvert_exporter": "python",
   "pygments_lexer": "ipython3",
   "version": "3.12.3"
  }
 },
 "nbformat": 4,
 "nbformat_minor": 2
}
